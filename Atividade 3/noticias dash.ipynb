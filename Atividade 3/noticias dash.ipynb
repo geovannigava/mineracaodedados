{
 "cells": [
  {
   "cell_type": "code",
   "execution_count": 1,
   "metadata": {},
   "outputs": [],
   "source": [
    "import requests\n",
    "import pandas as pd\n",
    "import seaborn as sns\n",
    "import numpy as np\n",
    "import matplotlib.pyplot as plt\n",
    "import time\n",
    "from datetime import datetime\n",
    "from datetime import timedelta\n",
    "import re\n",
    "from textblob import TextBlob "
   ]
  },
  {
   "cell_type": "code",
   "execution_count": 30,
   "metadata": {},
   "outputs": [
    {
     "name": "stdout",
     "output_type": "stream",
     "text": [
      "(50, 7)\n",
      "       id        data                                             titulo  \\\n",
      "0  701398  1542236400  Rosetta Coffee Company Now Accepts Cryptocurre...   \n",
      "1  700932  1542191453  PR: Bithumb Celebrates Its Fifth Anniversary w...   \n",
      "2  700597  1542166574  Crypto Arbitrage Today: ADA, QTUM, BTG, XLM, U...   \n",
      "3  698000  1542039281  Dash Outperforms Competitor Cryptocurrencies b...   \n",
      "4  697812  1542031179  Evident Proof Blockchain Platform Accepts Dash...   \n",
      "\n",
      "         fonte                                            noticia  polaridade  \\\n",
      "0  cryptoglobe  Rosetta Coffee, a Lynchburg, Virginia-based “s...           1   \n",
      "1  bitcoin.com  The global cryptocurrency stock exchange Bithu...           0   \n",
      "2    themerkle  Every day in the cryptocurrency world comes wi...           0   \n",
      "3        blokt  The cryptocurrencies markets are mixed today w...           0   \n",
      "4        blokt  Evident Proof; a decentralized, unhackable, an...          -1   \n",
      "\n",
      "                            categoria  \n",
      "0                    BTC|ETH|LTC|DASH  \n",
      "1      BTC|XMR|DASH|Exchange|Business  \n",
      "2     ADA|DASH|USDT|Trading|Sponsored  \n",
      "3  DASH|BTC|Market|Altcoin|Blockchain  \n",
      "4         Blockchain|XRP|BTC|DASH|ETH  \n"
     ]
    }
   ],
   "source": [
    "def analisePolaridade(texto): \n",
    "    analysis = TextBlob(limparTexto(texto)) \n",
    "    if analysis.sentiment.polarity > 0: \n",
    "        return 1\n",
    "    elif analysis.sentiment.polarity == 0: \n",
    "        return 0\n",
    "    else: \n",
    "        return -1\n",
    "\n",
    "def limparTexto(texto): \n",
    "    return ' '.join(re.sub(\"(@[A-Za-z0-9]+)|([^0-9A-Za-z \\t]) |(\\w+:\\/\\/\\S+)\", \" \", texto).split()) \n",
    "\n",
    "\n",
    "\n",
    "url = 'https://min-api.cryptocompare.com/data/v2/news/?categories=dash&lTs=dataAlvo'\n",
    "data = datetime.now()\n",
    "dados = []\n",
    "\n",
    "def search(lista, valor):\n",
    "    if [(lista.index(x), x.index(valor)) for x in lista if valor in x] != []:\n",
    "        return 1\n",
    "    else:\n",
    "        return 0\n",
    "\n",
    "for i in range(1):\n",
    "    url = url.replace('dataAlvo', str(data.strftime(\"%s\")))\n",
    "    j = requests.get(url).json()\n",
    "    for resultado in j['Data']:\n",
    "        #print(type(resultado['id']))\n",
    "        #print(url)\n",
    "        if (search(dados, resultado['id'])==0):\n",
    "            dados.append([\n",
    "                resultado['id'],\n",
    "                resultado['published_on'],\n",
    "                resultado['title'],\n",
    "                resultado['source'],\n",
    "                resultado['body'],\n",
    "                analisePolaridade(str(resultado['title'])),\n",
    "                resultado['categories'],\n",
    "            ])\n",
    "    url = url.replace(str(data.strftime(\"%s\")), 'dataAlvo')\n",
    "    #print(data)\n",
    "    data = data - timedelta(days=1)\n",
    "    \n",
    "     \n",
    "df = pd.DataFrame(dados, columns=['id', 'data','titulo','fonte', 'noticia', 'polaridade', 'categoria'])\n",
    "print(df.shape)\n",
    "print(df.head())"
   ]
  },
  {
   "cell_type": "code",
   "execution_count": 31,
   "metadata": {},
   "outputs": [
    {
     "data": {
      "text/plain": [
       "50"
      ]
     },
     "execution_count": 31,
     "metadata": {},
     "output_type": "execute_result"
    }
   ],
   "source": [
    "df['dataFormat'] = df['data'].apply(lambda x: datetime.utcfromtimestamp(x).strftime('%Y-%m-%d'))\n",
    "\n",
    "df.head()\n",
    "df.shape[0]"
   ]
  },
  {
   "cell_type": "code",
   "execution_count": 17,
   "metadata": {},
   "outputs": [
    {
     "name": "stdout",
     "output_type": "stream",
     "text": [
      "Evident Proof Blockchain Platform Accepts Dash and Ripple’s XRP to Broaden its User Base\n"
     ]
    }
   ],
   "source": [
    "df.head()\n",
    "print(df['titulo'][4])"
   ]
  },
  {
   "cell_type": "code",
   "execution_count": 12,
   "metadata": {},
   "outputs": [
    {
     "data": {
      "image/png": "[encoded data removed]",
      "text/plain": [
       "<Figure size 720x720 with 2 Axes>"
      ]
     },
     "metadata": {
      "needs_background": "light"
     },
     "output_type": "display_data"
    }
   ],
   "source": [
    "df.hist(edgecolor='black', figsize=(10, 10), grid=True);"
   ]
  },
  {
   "cell_type": "code",
   "execution_count": 32,
   "metadata": {},
   "outputs": [
    {
     "name": "stdout",
     "output_type": "stream",
     "text": [
      "['2018-11-14' '2018-11-12' '2018-11-08' '2018-11-07' '2018-11-06'\n",
      " '2018-11-05' '2018-11-04' '2018-11-02' '2018-10-31' '2018-10-30'\n",
      " '2018-10-29' '2018-10-28' '2018-10-26' '2018-10-25' '2018-10-24'\n",
      " '2018-10-23' '2018-10-22' '2018-10-21' '2018-10-20' '2018-10-17'\n",
      " '2018-10-16' '2018-10-15' '2018-10-14' '2018-10-13' '2018-10-12'\n",
      " '2018-10-11']\n"
     ]
    }
   ],
   "source": [
    "print(pd.unique(df['dataFormat']))"
   ]
  },
  {
   "cell_type": "code",
   "execution_count": 33,
   "metadata": {},
   "outputs": [
    {
     "name": "stdout",
     "output_type": "stream",
     "text": [
      "5\n",
      "[1, 1, 0, 0, 0, 2, 0, 1, 0, 0, 0, 1, 1, 1, 0, 0, 2, 1, 0, 1, 0, 0, 0, 1, 0, 1, 0, 0, 2, 0, 0, 1, 0, 1, 1, 0, 0, 1, 0, 0, 1, 0, 0, 0, 2, 0, 1, 0, 0, 3, 0, 0, 1, 0, 0, 1, 1, 0, 1, 0, 0, 6, 1, 1, 1, 0, 0, 2, 1, 0, 2, 0, 1, 1, 0, 0, 2, 1]\n"
     ]
    },
    {
     "data": {
      "text/html": [
       "<div>\n",
       "<style scoped>\n",
       "    .dataframe tbody tr th:only-of-type {\n",
       "        vertical-align: middle;\n",
       "    }\n",
       "\n",
       "    .dataframe tbody tr th {\n",
       "        vertical-align: top;\n",
       "    }\n",
       "\n",
       "    .dataframe thead th {\n",
       "        text-align: right;\n",
       "    }\n",
       "</style>\n",
       "<table border=\"1\" class=\"dataframe\">\n",
       "  <thead>\n",
       "    <tr style=\"text-align: right;\">\n",
       "      <th></th>\n",
       "      <th>neg</th>\n",
       "      <th>pos</th>\n",
       "      <th>neutro</th>\n",
       "    </tr>\n",
       "  </thead>\n",
       "  <tbody>\n",
       "    <tr>\n",
       "      <th>0</th>\n",
       "      <td>1</td>\n",
       "      <td>1</td>\n",
       "      <td>0</td>\n",
       "    </tr>\n",
       "    <tr>\n",
       "      <th>1</th>\n",
       "      <td>0</td>\n",
       "      <td>0</td>\n",
       "      <td>2</td>\n",
       "    </tr>\n",
       "    <tr>\n",
       "      <th>2</th>\n",
       "      <td>0</td>\n",
       "      <td>1</td>\n",
       "      <td>0</td>\n",
       "    </tr>\n",
       "    <tr>\n",
       "      <th>3</th>\n",
       "      <td>0</td>\n",
       "      <td>0</td>\n",
       "      <td>1</td>\n",
       "    </tr>\n",
       "    <tr>\n",
       "      <th>4</th>\n",
       "      <td>1</td>\n",
       "      <td>1</td>\n",
       "      <td>0</td>\n",
       "    </tr>\n",
       "  </tbody>\n",
       "</table>\n",
       "</div>"
      ],
      "text/plain": [
       "   neg  pos  neutro\n",
       "0    1    1       0\n",
       "1    0    0       2\n",
       "2    0    1       0\n",
       "3    0    0       1\n",
       "4    1    1       0"
      ]
     },
     "execution_count": 33,
     "metadata": {},
     "output_type": "execute_result"
    }
   ],
   "source": [
    "print(len(list(df[(df.polaridade == -1)].groupby('dataFormat').count()['polaridade'])))\n",
    "\n",
    "\n",
    "\n",
    "df_novo = df.pivot_table(index='polaridade', \n",
    "                     columns='dataFormat', \n",
    "                     values='id',\n",
    "                     fill_value=0, \n",
    "                     aggfunc='count').unstack()\n",
    "\n",
    "df_novo.head()\n",
    "\n",
    "listaNova = list(df_novo)\n",
    "print(listaNova)\n",
    "divisor = int(len(listaNova) / 3)\n",
    "\n",
    "tes = np.array(listaNova).reshape(divisor,3)\n",
    "polar = pd.DataFrame(tes, columns=['neg', 'pos','neutro'])\n",
    "polar.head()"
   ]
  },
  {
   "cell_type": "code",
   "execution_count": 34,
   "metadata": {},
   "outputs": [
    {
     "data": {
      "image/png": "[encoded data removed]",
      "text/plain": [
       "<Figure size 1440x576 with 1 Axes>"
      ]
     },
     "metadata": {
      "needs_background": "light"
     },
     "output_type": "display_data"
    }
   ],
   "source": [
    "import numpy as np\n",
    "import matplotlib.pyplot as plt\n",
    "\n",
    "N = divisor\n",
    "men_means = list(polar['neg'])\n",
    "\n",
    "\n",
    "ind = np.arange(N)  # the x locations for the groups\n",
    "width = 0.35       # the width of the bars\n",
    "\n",
    "fig, ax = plt.subplots()\n",
    "fig.set_size_inches(20, 8)\n",
    "\n",
    "rects1 = ax.bar(ind, men_means, width, color='r')\n",
    "\n",
    "women_means = list(polar['pos'])\n",
    "\n",
    "rects2 = ax.bar(ind + width, women_means, width, color='b')\n",
    "\n",
    "w_means = list(polar['neutro'])\n",
    "\n",
    "rects3 = ax.bar(ind + width + width, w_means, width, color='y')\n",
    "\n",
    "# add some text for labels, title and axes ticks\n",
    "ax.set_ylabel('Quantidade')\n",
    "ax.set_title('Quantidade de notícias por Data - ETH')\n",
    "ax.set_xticks(ind + width / 3)\n",
    "ax.set_xticklabels((pd.unique(df['dataFormat'])), rotation='vertical')\n",
    "\n",
    "ax.legend((rects1[0], rects2[0], rects3[0]), ('Negativo', 'Positivo', 'Neutro'))\n",
    "\n",
    "\n",
    "def autolabel(rects):\n",
    "    \"\"\"\n",
    "    Attach a text label above each bar displaying its height\n",
    "    \"\"\"\n",
    "    for rect in rects:\n",
    "        height = rect.get_height()\n",
    "        ax.text(rect.get_x() + rect.get_width()/2., 1.05*height,\n",
    "                '%d' % int(height),\n",
    "                ha='center', va='bottom')\n",
    "\n",
    "autolabel(rects1)\n",
    "autolabel(rects2)\n",
    "autolabel(rects3)\n",
    "\n",
    "plt.show()\n",
    "\n",
    "\n",
    "plt.show()"
   ]
  }
 ],
 "metadata": {
  "kernelspec": {
   "display_name": "Python 3",
   "language": "python",
   "name": "python3"
  },
  "language_info": {
   "codemirror_mode": {
    "name": "ipython",
    "version": 3
   },
   "file_extension": ".py",
   "mimetype": "text/x-python",
   "name": "python",
   "nbconvert_exporter": "python",
   "pygments_lexer": "ipython3",
   "version": "3.7.0"
  }
 },
 "nbformat": 4,
 "nbformat_minor": 2
}
