{
 "cells": [
  {
   "cell_type": "code",
   "execution_count": 91,
   "metadata": {},
   "outputs": [],
   "source": [
    "import requests\n",
    "import pandas as pd\n",
    "import seaborn as sns\n",
    "import numpy as np\n",
    "import matplotlib.pyplot as plt\n",
    "import time\n",
    "from datetime import datetime\n",
    "from datetime import timedelta\n",
    "import re\n",
    "from textblob import TextBlob \n"
   ]
  },
  {
   "cell_type": "code",
   "execution_count": 119,
   "metadata": {},
   "outputs": [
    {
     "name": "stdout",
     "output_type": "stream",
     "text": [
      "(276, 7)\n",
      "       id        data                                             titulo  \\\n",
      "0  701398  1542236400  Rosetta Coffee Company Now Accepts Cryptocurre...   \n",
      "1  701374  1542234063  Crypto Markets Drop Significantly Due to Coinb...   \n",
      "2  701355  1542231664  Bitcoin Dips To Its Lowest Level This Year, Et...   \n",
      "3  701347  1542230280  Bitcoin, Ethereum, Ripple, Bitcoin Cash, EOS, ...   \n",
      "4  701317  1542227726  ‘One Blockchain’: Ambitious Crypto Project Kin...   \n",
      "\n",
      "           fonte                                            noticia  \\\n",
      "0    cryptoglobe  Rosetta Coffee, a Lynchburg, Virginia-based “s...   \n",
      "1      themerkle  Crytpocurrency markets are in turmoil right no...   \n",
      "2      themerkle  It’s been a bearish year for the cryptocurrenc...   \n",
      "3  cointelegraph  Should traders start bottom fishing following ...   \n",
      "4            ccn  The developers of Kin, the cryptocurrency crea...   \n",
      "\n",
      "   polaridade                   categoria  \n",
      "0           1            BTC|ETH|LTC|DASH  \n",
      "1          -1  BTC|ETH|Market|Trading|XRP  \n",
      "2           0         BTC|XRP|ETH|Trading  \n",
      "3           1         BTC|ETH|LTC|XMR|XRP  \n",
      "4           1                     ETH|ICO  \n"
     ]
    }
   ],
   "source": [
    "def analisePolaridade(texto): \n",
    "    analysis = TextBlob(limparTexto(texto)) \n",
    "    if analysis.sentiment.polarity > 0: \n",
    "        return 1\n",
    "    elif analysis.sentiment.polarity == 0: \n",
    "        return 0\n",
    "    else: \n",
    "        return -1\n",
    "\n",
    "def limparTexto(texto): \n",
    "    return ' '.join(re.sub(\"(@[A-Za-z0-9]+)|([^0-9A-Za-z \\t]) |(\\w+:\\/\\/\\S+)\", \" \", texto).split()) \n",
    "\n",
    "\n",
    "\n",
    "url = 'https://min-api.cryptocompare.com/data/v2/news/?categories=eth&lTs=dataAlvo'\n",
    "data = datetime.now()\n",
    "dados = []\n",
    "\n",
    "def search(lista, valor):\n",
    "    if [(lista.index(x), x.index(valor)) for x in lista if valor in x] != []:\n",
    "        return 1\n",
    "    else:\n",
    "        return 0\n",
    "\n",
    "for i in range(90):\n",
    "    url = url.replace('dataAlvo', str(data.strftime(\"%s\")))\n",
    "    j = requests.get(url).json()\n",
    "    for resultado in j['Data']:\n",
    "        #print(type(resultado['id']))\n",
    "        #print(url)\n",
    "        if (search(dados, resultado['id'])==0):\n",
    "            dados.append([\n",
    "                resultado['id'],\n",
    "                resultado['published_on'],\n",
    "                resultado['title'],\n",
    "                resultado['source'],\n",
    "                resultado['body'],\n",
    "                analisePolaridade(str(resultado['title'])),\n",
    "                resultado['categories'],\n",
    "            ])\n",
    "    url = url.replace(str(data.strftime(\"%s\")), 'dataAlvo')\n",
    "    #print(data)\n",
    "    data = data - timedelta(days=1)\n",
    "    \n",
    "     \n",
    "df = pd.DataFrame(dados, columns=['id', 'data','titulo','fonte', 'noticia', 'polaridade', 'categoria'])\n",
    "print(df.shape)\n",
    "print(df.head())"
   ]
  },
  {
   "cell_type": "code",
   "execution_count": 130,
   "metadata": {},
   "outputs": [
    {
     "ename": "NameError",
     "evalue": "name 'o' is not defined",
     "output_type": "error",
     "traceback": [
      "\u001b[0;31m---------------------------------------------------------------------------\u001b[0m",
      "\u001b[0;31mNameError\u001b[0m                                 Traceback (most recent call last)",
      "\u001b[0;32m<ipython-input-130-536066c68d3b>\u001b[0m in \u001b[0;36m<module>\u001b[0;34m\u001b[0m\n\u001b[1;32m      4\u001b[0m \u001b[0mdf\u001b[0m\u001b[0;34m.\u001b[0m\u001b[0mshape\u001b[0m\u001b[0;34m[\u001b[0m\u001b[0;36m0\u001b[0m\u001b[0;34m]\u001b[0m\u001b[0;34m\u001b[0m\u001b[0m\n\u001b[1;32m      5\u001b[0m \u001b[0;34m\u001b[0m\u001b[0m\n\u001b[0;32m----> 6\u001b[0;31m \u001b[0mdf\u001b[0m\u001b[0;34m[\u001b[0m\u001b[0;34m'moeda'\u001b[0m\u001b[0;34m]\u001b[0m \u001b[0;34m=\u001b[0m \u001b[0mdf\u001b[0m\u001b[0;34m[\u001b[0m\u001b[0;34m'data'\u001b[0m\u001b[0;34m]\u001b[0m\u001b[0;34m.\u001b[0m\u001b[0mapply\u001b[0m\u001b[0;34m(\u001b[0m\u001b[0;32mlambda\u001b[0m \u001b[0mx\u001b[0m\u001b[0;34m:\u001b[0m \u001b[0mo\u001b[0m\u001b[0;34m)\u001b[0m\u001b[0;34m\u001b[0m\u001b[0m\n\u001b[0m",
      "\u001b[0;32m~/miniconda3/envs/labredes/lib/python3.7/site-packages/pandas/core/series.py\u001b[0m in \u001b[0;36mapply\u001b[0;34m(self, func, convert_dtype, args, **kwds)\u001b[0m\n\u001b[1;32m   3192\u001b[0m             \u001b[0;32melse\u001b[0m\u001b[0;34m:\u001b[0m\u001b[0;34m\u001b[0m\u001b[0m\n\u001b[1;32m   3193\u001b[0m                 \u001b[0mvalues\u001b[0m \u001b[0;34m=\u001b[0m \u001b[0mself\u001b[0m\u001b[0;34m.\u001b[0m\u001b[0mastype\u001b[0m\u001b[0;34m(\u001b[0m\u001b[0mobject\u001b[0m\u001b[0;34m)\u001b[0m\u001b[0;34m.\u001b[0m\u001b[0mvalues\u001b[0m\u001b[0;34m\u001b[0m\u001b[0m\n\u001b[0;32m-> 3194\u001b[0;31m                 \u001b[0mmapped\u001b[0m \u001b[0;34m=\u001b[0m \u001b[0mlib\u001b[0m\u001b[0;34m.\u001b[0m\u001b[0mmap_infer\u001b[0m\u001b[0;34m(\u001b[0m\u001b[0mvalues\u001b[0m\u001b[0;34m,\u001b[0m \u001b[0mf\u001b[0m\u001b[0;34m,\u001b[0m \u001b[0mconvert\u001b[0m\u001b[0;34m=\u001b[0m\u001b[0mconvert_dtype\u001b[0m\u001b[0;34m)\u001b[0m\u001b[0;34m\u001b[0m\u001b[0m\n\u001b[0m\u001b[1;32m   3195\u001b[0m \u001b[0;34m\u001b[0m\u001b[0m\n\u001b[1;32m   3196\u001b[0m         \u001b[0;32mif\u001b[0m \u001b[0mlen\u001b[0m\u001b[0;34m(\u001b[0m\u001b[0mmapped\u001b[0m\u001b[0;34m)\u001b[0m \u001b[0;32mand\u001b[0m \u001b[0misinstance\u001b[0m\u001b[0;34m(\u001b[0m\u001b[0mmapped\u001b[0m\u001b[0;34m[\u001b[0m\u001b[0;36m0\u001b[0m\u001b[0;34m]\u001b[0m\u001b[0;34m,\u001b[0m \u001b[0mSeries\u001b[0m\u001b[0;34m)\u001b[0m\u001b[0;34m:\u001b[0m\u001b[0;34m\u001b[0m\u001b[0m\n",
      "\u001b[0;32mpandas/_libs/src/inference.pyx\u001b[0m in \u001b[0;36mpandas._libs.lib.map_infer\u001b[0;34m()\u001b[0m\n",
      "\u001b[0;32m<ipython-input-130-536066c68d3b>\u001b[0m in \u001b[0;36m<lambda>\u001b[0;34m(x)\u001b[0m\n\u001b[1;32m      4\u001b[0m \u001b[0mdf\u001b[0m\u001b[0;34m.\u001b[0m\u001b[0mshape\u001b[0m\u001b[0;34m[\u001b[0m\u001b[0;36m0\u001b[0m\u001b[0;34m]\u001b[0m\u001b[0;34m\u001b[0m\u001b[0m\n\u001b[1;32m      5\u001b[0m \u001b[0;34m\u001b[0m\u001b[0m\n\u001b[0;32m----> 6\u001b[0;31m \u001b[0mdf\u001b[0m\u001b[0;34m[\u001b[0m\u001b[0;34m'moeda'\u001b[0m\u001b[0;34m]\u001b[0m \u001b[0;34m=\u001b[0m \u001b[0mdf\u001b[0m\u001b[0;34m[\u001b[0m\u001b[0;34m'data'\u001b[0m\u001b[0;34m]\u001b[0m\u001b[0;34m.\u001b[0m\u001b[0mapply\u001b[0m\u001b[0;34m(\u001b[0m\u001b[0;32mlambda\u001b[0m \u001b[0mx\u001b[0m\u001b[0;34m:\u001b[0m \u001b[0mo\u001b[0m\u001b[0;34m)\u001b[0m\u001b[0;34m\u001b[0m\u001b[0m\n\u001b[0m",
      "\u001b[0;31mNameError\u001b[0m: name 'o' is not defined"
     ]
    }
   ],
   "source": [
    "df['dataFormat'] = df['data'].apply(lambda x: datetime.utcfromtimestamp(x).strftime('%Y-%m-%d'))\n",
    "\n",
    "df.head()\n",
    "df.shape[0]\n",
    "\n",
    "df['moeda'] = df['data'].apply(lambda x: datetime.utcfromtimestamp(x).strftime('%Y-%m-%d'))\n"
   ]
  },
  {
   "cell_type": "code",
   "execution_count": 129,
   "metadata": {},
   "outputs": [
    {
     "data": {
      "text/html": [
       "<div>\n",
       "<style scoped>\n",
       "    .dataframe tbody tr th:only-of-type {\n",
       "        vertical-align: middle;\n",
       "    }\n",
       "\n",
       "    .dataframe tbody tr th {\n",
       "        vertical-align: top;\n",
       "    }\n",
       "\n",
       "    .dataframe thead th {\n",
       "        text-align: right;\n",
       "    }\n",
       "</style>\n",
       "<table border=\"1\" class=\"dataframe\">\n",
       "  <thead>\n",
       "    <tr style=\"text-align: right;\">\n",
       "      <th></th>\n",
       "      <th>id</th>\n",
       "      <th>data</th>\n",
       "      <th>titulo</th>\n",
       "      <th>fonte</th>\n",
       "      <th>noticia</th>\n",
       "      <th>polaridade</th>\n",
       "      <th>categoria</th>\n",
       "      <th>dataFormat</th>\n",
       "      <th>moeda</th>\n",
       "    </tr>\n",
       "  </thead>\n",
       "  <tbody>\n",
       "    <tr>\n",
       "      <th>0</th>\n",
       "      <td>701398</td>\n",
       "      <td>1542236400</td>\n",
       "      <td>Rosetta Coffee Company Now Accepts Cryptocurre...</td>\n",
       "      <td>cryptoglobe</td>\n",
       "      <td>Rosetta Coffee, a Lynchburg, Virginia-based “s...</td>\n",
       "      <td>1</td>\n",
       "      <td>BTC|ETH|LTC|DASH</td>\n",
       "      <td>2018-11-14</td>\n",
       "      <td>1</td>\n",
       "    </tr>\n",
       "    <tr>\n",
       "      <th>1</th>\n",
       "      <td>701374</td>\n",
       "      <td>1542234063</td>\n",
       "      <td>Crypto Markets Drop Significantly Due to Coinb...</td>\n",
       "      <td>themerkle</td>\n",
       "      <td>Crytpocurrency markets are in turmoil right no...</td>\n",
       "      <td>-1</td>\n",
       "      <td>BTC|ETH|Market|Trading|XRP</td>\n",
       "      <td>2018-11-14</td>\n",
       "      <td>1</td>\n",
       "    </tr>\n",
       "    <tr>\n",
       "      <th>2</th>\n",
       "      <td>701355</td>\n",
       "      <td>1542231664</td>\n",
       "      <td>Bitcoin Dips To Its Lowest Level This Year, Et...</td>\n",
       "      <td>themerkle</td>\n",
       "      <td>It’s been a bearish year for the cryptocurrenc...</td>\n",
       "      <td>0</td>\n",
       "      <td>BTC|XRP|ETH|Trading</td>\n",
       "      <td>2018-11-14</td>\n",
       "      <td>1</td>\n",
       "    </tr>\n",
       "    <tr>\n",
       "      <th>3</th>\n",
       "      <td>701347</td>\n",
       "      <td>1542230280</td>\n",
       "      <td>Bitcoin, Ethereum, Ripple, Bitcoin Cash, EOS, ...</td>\n",
       "      <td>cointelegraph</td>\n",
       "      <td>Should traders start bottom fishing following ...</td>\n",
       "      <td>1</td>\n",
       "      <td>BTC|ETH|LTC|XMR|XRP</td>\n",
       "      <td>2018-11-14</td>\n",
       "      <td>1</td>\n",
       "    </tr>\n",
       "    <tr>\n",
       "      <th>4</th>\n",
       "      <td>701317</td>\n",
       "      <td>1542227726</td>\n",
       "      <td>‘One Blockchain’: Ambitious Crypto Project Kin...</td>\n",
       "      <td>ccn</td>\n",
       "      <td>The developers of Kin, the cryptocurrency crea...</td>\n",
       "      <td>1</td>\n",
       "      <td>ETH|ICO</td>\n",
       "      <td>2018-11-14</td>\n",
       "      <td>1</td>\n",
       "    </tr>\n",
       "  </tbody>\n",
       "</table>\n",
       "</div>"
      ],
      "text/plain": [
       "       id        data                                             titulo  \\\n",
       "0  701398  1542236400  Rosetta Coffee Company Now Accepts Cryptocurre...   \n",
       "1  701374  1542234063  Crypto Markets Drop Significantly Due to Coinb...   \n",
       "2  701355  1542231664  Bitcoin Dips To Its Lowest Level This Year, Et...   \n",
       "3  701347  1542230280  Bitcoin, Ethereum, Ripple, Bitcoin Cash, EOS, ...   \n",
       "4  701317  1542227726  ‘One Blockchain’: Ambitious Crypto Project Kin...   \n",
       "\n",
       "           fonte                                            noticia  \\\n",
       "0    cryptoglobe  Rosetta Coffee, a Lynchburg, Virginia-based “s...   \n",
       "1      themerkle  Crytpocurrency markets are in turmoil right no...   \n",
       "2      themerkle  It’s been a bearish year for the cryptocurrenc...   \n",
       "3  cointelegraph  Should traders start bottom fishing following ...   \n",
       "4            ccn  The developers of Kin, the cryptocurrency crea...   \n",
       "\n",
       "   polaridade                   categoria  dataFormat  moeda  \n",
       "0           1            BTC|ETH|LTC|DASH  2018-11-14      1  \n",
       "1          -1  BTC|ETH|Market|Trading|XRP  2018-11-14      1  \n",
       "2           0         BTC|XRP|ETH|Trading  2018-11-14      1  \n",
       "3           1         BTC|ETH|LTC|XMR|XRP  2018-11-14      1  \n",
       "4           1                     ETH|ICO  2018-11-14      1  "
      ]
     },
     "execution_count": 129,
     "metadata": {},
     "output_type": "execute_result"
    }
   ],
   "source": [
    "df.head()"
   ]
  },
  {
   "cell_type": "code",
   "execution_count": 122,
   "metadata": {},
   "outputs": [
    {
     "data": {
      "image/png": "[encoded data removed]",
      "text/plain": [
       "<Figure size 720x720 with 2 Axes>"
      ]
     },
     "metadata": {},
     "output_type": "display_data"
    }
   ],
   "source": [
    "df.hist(edgecolor='black', figsize=(10, 10), grid=True);"
   ]
  },
  {
   "cell_type": "code",
   "execution_count": 124,
   "metadata": {},
   "outputs": [
    {
     "name": "stdout",
     "output_type": "stream",
     "text": [
      "['2018-11-14' '2018-11-13' '2018-11-12' '2018-11-11' '2018-11-10'\n",
      " '2018-11-09' '2018-11-08' '2018-11-07' '2018-11-06' '2018-11-05'\n",
      " '2018-11-04']\n"
     ]
    }
   ],
   "source": [
    "print(pd.unique(df['dataFormat']))"
   ]
  },
  {
   "cell_type": "code",
   "execution_count": 125,
   "metadata": {},
   "outputs": [
    {
     "name": "stdout",
     "output_type": "stream",
     "text": [
      "11\n",
      "[2, 9, 2, 4, 23, 10, 3, 14, 12, 4, 20, 8, 9, 17, 8, 2, 24, 9, 1, 10, 7, 2, 5, 1, 6, 11, 5, 6, 12, 5, 4, 13, 8]\n"
     ]
    },
    {
     "data": {
      "text/html": [
       "<div>\n",
       "<style scoped>\n",
       "    .dataframe tbody tr th:only-of-type {\n",
       "        vertical-align: middle;\n",
       "    }\n",
       "\n",
       "    .dataframe tbody tr th {\n",
       "        vertical-align: top;\n",
       "    }\n",
       "\n",
       "    .dataframe thead th {\n",
       "        text-align: right;\n",
       "    }\n",
       "</style>\n",
       "<table border=\"1\" class=\"dataframe\">\n",
       "  <thead>\n",
       "    <tr style=\"text-align: right;\">\n",
       "      <th></th>\n",
       "      <th>neg</th>\n",
       "      <th>pos</th>\n",
       "      <th>neutro</th>\n",
       "    </tr>\n",
       "  </thead>\n",
       "  <tbody>\n",
       "    <tr>\n",
       "      <th>0</th>\n",
       "      <td>2</td>\n",
       "      <td>9</td>\n",
       "      <td>2</td>\n",
       "    </tr>\n",
       "    <tr>\n",
       "      <th>1</th>\n",
       "      <td>4</td>\n",
       "      <td>23</td>\n",
       "      <td>10</td>\n",
       "    </tr>\n",
       "    <tr>\n",
       "      <th>2</th>\n",
       "      <td>3</td>\n",
       "      <td>14</td>\n",
       "      <td>12</td>\n",
       "    </tr>\n",
       "    <tr>\n",
       "      <th>3</th>\n",
       "      <td>4</td>\n",
       "      <td>20</td>\n",
       "      <td>8</td>\n",
       "    </tr>\n",
       "    <tr>\n",
       "      <th>4</th>\n",
       "      <td>9</td>\n",
       "      <td>17</td>\n",
       "      <td>8</td>\n",
       "    </tr>\n",
       "  </tbody>\n",
       "</table>\n",
       "</div>"
      ],
      "text/plain": [
       "   neg  pos  neutro\n",
       "0    2    9       2\n",
       "1    4   23      10\n",
       "2    3   14      12\n",
       "3    4   20       8\n",
       "4    9   17       8"
      ]
     },
     "execution_count": 125,
     "metadata": {},
     "output_type": "execute_result"
    }
   ],
   "source": [
    "print(len(list(df[(df.polaridade == -1)].groupby('dataFormat').count()['polaridade'])))\n",
    "\n",
    "\n",
    "\n",
    "df_novo = df.pivot_table(index='polaridade', \n",
    "                     columns='dataFormat', \n",
    "                     values='id',\n",
    "                     fill_value=0, \n",
    "                     aggfunc='count').unstack()\n",
    "\n",
    "df_novo.head()\n",
    "\n",
    "listaNova = list(df_novo)\n",
    "print(listaNova)\n",
    "divisor = int(len(listaNova) / 3)\n",
    "\n",
    "tes = np.array(listaNova).reshape(divisor,3)\n",
    "polar = pd.DataFrame(tes, columns=['neg', 'pos','neutro'])\n",
    "polar.head()\n",
    "\n"
   ]
  },
  {
   "cell_type": "code",
   "execution_count": null,
   "metadata": {
    "scrolled": true
   },
   "outputs": [],
   "source": [
    "\n",
    "\n"
   ]
  },
  {
   "cell_type": "code",
   "execution_count": 127,
   "metadata": {},
   "outputs": [
    {
     "data": {
      "image/png": "[encoded data removed]",
      "text/plain": [
       "<Figure size 1440x576 with 1 Axes>"
      ]
     },
     "metadata": {},
     "output_type": "display_data"
    }
   ],
   "source": [
    "import numpy as np\n",
    "import matplotlib.pyplot as plt\n",
    "\n",
    "N = divisor\n",
    "men_means = list(polar['neg'])\n",
    "\n",
    "\n",
    "ind = np.arange(N)  # the x locations for the groups\n",
    "width = 0.35       # the width of the bars\n",
    "\n",
    "fig, ax = plt.subplots()\n",
    "fig.set_size_inches(20, 8)\n",
    "\n",
    "rects1 = ax.bar(ind, men_means, width, color='r')\n",
    "\n",
    "women_means = list(polar['pos'])\n",
    "\n",
    "rects2 = ax.bar(ind + width, women_means, width, color='b')\n",
    "\n",
    "w_means = list(polar['neutro'])\n",
    "\n",
    "rects3 = ax.bar(ind + width + width, w_means, width, color='y')\n",
    "\n",
    "# add some text for labels, title and axes ticks\n",
    "ax.set_ylabel('Quantidade')\n",
    "ax.set_title('Quantidade de notícias por Data - ETH')\n",
    "ax.set_xticks(ind + width / 3)\n",
    "ax.set_xticklabels((pd.unique(df['dataFormat'])), rotation='vertical')\n",
    "\n",
    "ax.legend((rects1[0], rects2[0], rects3[0]), ('Negativo', 'Positivo', 'Neutro'))\n",
    "\n",
    "\n",
    "def autolabel(rects):\n",
    "    \"\"\"\n",
    "    Attach a text label above each bar displaying its height\n",
    "    \"\"\"\n",
    "    for rect in rects:\n",
    "        height = rect.get_height()\n",
    "        ax.text(rect.get_x() + rect.get_width()/2., 1.05*height,\n",
    "                '%d' % int(height),\n",
    "                ha='center', va='bottom')\n",
    "\n",
    "autolabel(rects1)\n",
    "autolabel(rects2)\n",
    "autolabel(rects3)\n",
    "\n",
    "plt.show()\n",
    "\n",
    "\n",
    "plt.show()"
   ]
  },
  {
   "cell_type": "code",
   "execution_count": 28,
   "metadata": {},
   "outputs": [
    {
     "data": {
      "text/plain": [
       "<matplotlib.axes._subplots.AxesSubplot at 0x7f71fd8af048>"
      ]
     },
     "execution_count": 28,
     "metadata": {},
     "output_type": "execute_result"
    },
    {
     "data": {
      "image/png": "[encoded data removed]",
      "text/plain": [
       "<Figure size 1440x1440 with 1 Axes>"
      ]
     },
     "metadata": {
      "needs_background": "light"
     },
     "output_type": "display_data"
    }
   ],
   "source": [
    "df_novo.plot(kind='bar', title='Total de filmes para cada Genero', figsize=(20, 20), legend=True)"
   ]
  },
  {
   "cell_type": "code",
   "execution_count": null,
   "metadata": {},
   "outputs": [],
   "source": []
  }
 ],
 "metadata": {
  "kernelspec": {
   "display_name": "Python 3",
   "language": "python",
   "name": "python3"
  },
  "language_info": {
   "codemirror_mode": {
    "name": "ipython",
    "version": 3
   },
   "file_extension": ".py",
   "mimetype": "text/x-python",
   "name": "python",
   "nbconvert_exporter": "python",
   "pygments_lexer": "ipython3",
   "version": "3.7.0"
  }
 },
 "nbformat": 4,
 "nbformat_minor": 2
}
